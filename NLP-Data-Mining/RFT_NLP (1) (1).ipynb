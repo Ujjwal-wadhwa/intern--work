{
  "nbformat": 4,
  "nbformat_minor": 0,
  "metadata": {
    "colab": {
      "provenance": []
    },
    "kernelspec": {
      "name": "python3",
      "display_name": "Python 3"
    },
    "language_info": {
      "name": "python"
    }
  },
  "cells": [
    {
      "cell_type": "code",
      "execution_count": 2,
      "metadata": {
        "colab": {
          "base_uri": "https://localhost:8080/"
        },
        "id": "Cx2lmU95z5FJ",
        "outputId": "562839aa-2564-4dcb-a3ba-510ad12c828d"
      },
      "outputs": [
        {
          "output_type": "stream",
          "name": "stdout",
          "text": [
            "Collecting PyPDF2\n",
            "  Downloading pypdf2-3.0.1-py3-none-any.whl (232 kB)\n",
            "\u001b[?25l     \u001b[90m━━━━━━━━━━━━━━━━━━━━━━━━━━━━━━━━━━━━━━━━\u001b[0m \u001b[32m0.0/232.6 kB\u001b[0m \u001b[31m?\u001b[0m eta \u001b[36m-:--:--\u001b[0m\r\u001b[2K     \u001b[90m━━━━━━━━━━━━━━━━━━━━━━━━━━━━━━━━━━━━━━━\u001b[0m \u001b[32m232.6/232.6 kB\u001b[0m \u001b[31m8.1 MB/s\u001b[0m eta \u001b[36m0:00:00\u001b[0m\n",
            "\u001b[?25hInstalling collected packages: PyPDF2\n",
            "Successfully installed PyPDF2-3.0.1\n"
          ]
        }
      ],
      "source": [
        "!pip install PyPDF2"
      ]
    },
    {
      "cell_type": "code",
      "source": [
        "!python -m spacy download en_core_web_sm"
      ],
      "metadata": {
        "colab": {
          "base_uri": "https://localhost:8080/"
        },
        "collapsed": true,
        "id": "NRwR0Ydj4Nkh",
        "outputId": "a3580494-c53e-4adf-d10b-0ea200358867"
      },
      "execution_count": 15,
      "outputs": [
        {
          "output_type": "stream",
          "name": "stdout",
          "text": [
            "2023-07-17 22:03:26.325687: W tensorflow/compiler/tf2tensorrt/utils/py_utils.cc:38] TF-TRT Warning: Could not find TensorRT\n",
            "Collecting en-core-web-sm==3.5.0\n",
            "  Downloading https://github.com/explosion/spacy-models/releases/download/en_core_web_sm-3.5.0/en_core_web_sm-3.5.0-py3-none-any.whl (12.8 MB)\n",
            "\u001b[2K     \u001b[90m━━━━━━━━━━━━━━━━━━━━━━━━━━━━━━━━━━━━━━━━\u001b[0m \u001b[32m12.8/12.8 MB\u001b[0m \u001b[31m44.4 MB/s\u001b[0m eta \u001b[36m0:00:00\u001b[0m\n",
            "\u001b[?25hRequirement already satisfied: spacy<3.6.0,>=3.5.0 in /usr/local/lib/python3.10/dist-packages (from en-core-web-sm==3.5.0) (3.5.4)\n",
            "Requirement already satisfied: spacy-legacy<3.1.0,>=3.0.11 in /usr/local/lib/python3.10/dist-packages (from spacy<3.6.0,>=3.5.0->en-core-web-sm==3.5.0) (3.0.12)\n",
            "Requirement already satisfied: spacy-loggers<2.0.0,>=1.0.0 in /usr/local/lib/python3.10/dist-packages (from spacy<3.6.0,>=3.5.0->en-core-web-sm==3.5.0) (1.0.4)\n",
            "Requirement already satisfied: murmurhash<1.1.0,>=0.28.0 in /usr/local/lib/python3.10/dist-packages (from spacy<3.6.0,>=3.5.0->en-core-web-sm==3.5.0) (1.0.9)\n",
            "Requirement already satisfied: cymem<2.1.0,>=2.0.2 in /usr/local/lib/python3.10/dist-packages (from spacy<3.6.0,>=3.5.0->en-core-web-sm==3.5.0) (2.0.7)\n",
            "Requirement already satisfied: preshed<3.1.0,>=3.0.2 in /usr/local/lib/python3.10/dist-packages (from spacy<3.6.0,>=3.5.0->en-core-web-sm==3.5.0) (3.0.8)\n",
            "Requirement already satisfied: thinc<8.2.0,>=8.1.8 in /usr/local/lib/python3.10/dist-packages (from spacy<3.6.0,>=3.5.0->en-core-web-sm==3.5.0) (8.1.10)\n",
            "Requirement already satisfied: wasabi<1.2.0,>=0.9.1 in /usr/local/lib/python3.10/dist-packages (from spacy<3.6.0,>=3.5.0->en-core-web-sm==3.5.0) (1.1.2)\n",
            "Requirement already satisfied: srsly<3.0.0,>=2.4.3 in /usr/local/lib/python3.10/dist-packages (from spacy<3.6.0,>=3.5.0->en-core-web-sm==3.5.0) (2.4.6)\n",
            "Requirement already satisfied: catalogue<2.1.0,>=2.0.6 in /usr/local/lib/python3.10/dist-packages (from spacy<3.6.0,>=3.5.0->en-core-web-sm==3.5.0) (2.0.8)\n",
            "Requirement already satisfied: typer<0.10.0,>=0.3.0 in /usr/local/lib/python3.10/dist-packages (from spacy<3.6.0,>=3.5.0->en-core-web-sm==3.5.0) (0.9.0)\n",
            "Requirement already satisfied: pathy>=0.10.0 in /usr/local/lib/python3.10/dist-packages (from spacy<3.6.0,>=3.5.0->en-core-web-sm==3.5.0) (0.10.2)\n",
            "Requirement already satisfied: smart-open<7.0.0,>=5.2.1 in /usr/local/lib/python3.10/dist-packages (from spacy<3.6.0,>=3.5.0->en-core-web-sm==3.5.0) (6.3.0)\n",
            "Requirement already satisfied: tqdm<5.0.0,>=4.38.0 in /usr/local/lib/python3.10/dist-packages (from spacy<3.6.0,>=3.5.0->en-core-web-sm==3.5.0) (4.65.0)\n",
            "Requirement already satisfied: numpy>=1.15.0 in /usr/local/lib/python3.10/dist-packages (from spacy<3.6.0,>=3.5.0->en-core-web-sm==3.5.0) (1.22.4)\n",
            "Requirement already satisfied: requests<3.0.0,>=2.13.0 in /usr/local/lib/python3.10/dist-packages (from spacy<3.6.0,>=3.5.0->en-core-web-sm==3.5.0) (2.27.1)\n",
            "Requirement already satisfied: pydantic!=1.8,!=1.8.1,<1.11.0,>=1.7.4 in /usr/local/lib/python3.10/dist-packages (from spacy<3.6.0,>=3.5.0->en-core-web-sm==3.5.0) (1.10.11)\n",
            "Requirement already satisfied: jinja2 in /usr/local/lib/python3.10/dist-packages (from spacy<3.6.0,>=3.5.0->en-core-web-sm==3.5.0) (3.1.2)\n",
            "Requirement already satisfied: setuptools in /usr/local/lib/python3.10/dist-packages (from spacy<3.6.0,>=3.5.0->en-core-web-sm==3.5.0) (67.7.2)\n",
            "Requirement already satisfied: packaging>=20.0 in /usr/local/lib/python3.10/dist-packages (from spacy<3.6.0,>=3.5.0->en-core-web-sm==3.5.0) (23.1)\n",
            "Requirement already satisfied: langcodes<4.0.0,>=3.2.0 in /usr/local/lib/python3.10/dist-packages (from spacy<3.6.0,>=3.5.0->en-core-web-sm==3.5.0) (3.3.0)\n",
            "Requirement already satisfied: typing-extensions>=4.2.0 in /usr/local/lib/python3.10/dist-packages (from pydantic!=1.8,!=1.8.1,<1.11.0,>=1.7.4->spacy<3.6.0,>=3.5.0->en-core-web-sm==3.5.0) (4.7.1)\n",
            "Requirement already satisfied: urllib3<1.27,>=1.21.1 in /usr/local/lib/python3.10/dist-packages (from requests<3.0.0,>=2.13.0->spacy<3.6.0,>=3.5.0->en-core-web-sm==3.5.0) (1.26.16)\n",
            "Requirement already satisfied: certifi>=2017.4.17 in /usr/local/lib/python3.10/dist-packages (from requests<3.0.0,>=2.13.0->spacy<3.6.0,>=3.5.0->en-core-web-sm==3.5.0) (2023.5.7)\n",
            "Requirement already satisfied: charset-normalizer~=2.0.0 in /usr/local/lib/python3.10/dist-packages (from requests<3.0.0,>=2.13.0->spacy<3.6.0,>=3.5.0->en-core-web-sm==3.5.0) (2.0.12)\n",
            "Requirement already satisfied: idna<4,>=2.5 in /usr/local/lib/python3.10/dist-packages (from requests<3.0.0,>=2.13.0->spacy<3.6.0,>=3.5.0->en-core-web-sm==3.5.0) (3.4)\n",
            "Requirement already satisfied: blis<0.8.0,>=0.7.8 in /usr/local/lib/python3.10/dist-packages (from thinc<8.2.0,>=8.1.8->spacy<3.6.0,>=3.5.0->en-core-web-sm==3.5.0) (0.7.9)\n",
            "Requirement already satisfied: confection<1.0.0,>=0.0.1 in /usr/local/lib/python3.10/dist-packages (from thinc<8.2.0,>=8.1.8->spacy<3.6.0,>=3.5.0->en-core-web-sm==3.5.0) (0.1.0)\n",
            "Requirement already satisfied: click<9.0.0,>=7.1.1 in /usr/local/lib/python3.10/dist-packages (from typer<0.10.0,>=0.3.0->spacy<3.6.0,>=3.5.0->en-core-web-sm==3.5.0) (8.1.4)\n",
            "Requirement already satisfied: MarkupSafe>=2.0 in /usr/local/lib/python3.10/dist-packages (from jinja2->spacy<3.6.0,>=3.5.0->en-core-web-sm==3.5.0) (2.1.3)\n",
            "\u001b[38;5;2m✔ Download and installation successful\u001b[0m\n",
            "You can now load the package via spacy.load('en_core_web_sm')\n"
          ]
        }
      ]
    },
    {
      "cell_type": "code",
      "source": [
        "import PyPDF2\n",
        "a = PyPDF2.PdfReader('/content/KFT-(kidney-function-test).pdf')\n"
      ],
      "metadata": {
        "id": "Re_-3Gdx0rqI"
      },
      "execution_count": 5,
      "outputs": []
    },
    {
      "cell_type": "code",
      "source": [
        "str = a.pages[0]\n",
        "txt = str.extract_text()\n",
        "txt"
      ],
      "metadata": {
        "colab": {
          "base_uri": "https://localhost:8080/",
          "height": 105
        },
        "id": "VzsCvndl0t4y",
        "outputId": "d3ebf053-9afc-4978-aed4-9907660d274c"
      },
      "execution_count": 12,
      "outputs": [
        {
          "output_type": "execute_result",
          "data": {
            "text/plain": [
              "'BIOCHEMISTRY\\nKIDNEY FUNCTION TEST (KFT)\\nTEST\\nVALUE\\nUNIT\\nREFERENCE\\nBUN\\n10.27\\nmg/dl\\n7.9 - 20\\nSerum Urea\\n22\\nmg/dl\\n13 - 40\\nSerum Creatinine\\nH\\n0.9\\nmg/dl\\n0.5 - 0.8\\nSerum Calcium\\n9.0\\nmg/dl\\n8.8 - 10.6\\nSerum Potassium\\n3.9\\nmmol/L\\n3.5 - 5.1\\nSerum Sodium\\nL\\n132\\nmmol/L\\n136 - 146\\nSerum Uric Acid\\n5\\nmg/dl\\n2.6 - 6\\nUrea / Creatinine Ratio\\n24.44\\nBUN / Creatinine Ratio\\n11.41\\n~~~ End of report ~~~\\nLABSMART SAMPLE REPORT\\nPatient Name:\\nMrs. Dummy\\nRegistered on:\\n09/08/2022   11:35 AM\\n1001\\nAge / Sex:\\n34 YRS / F\\nCollected on:\\n09/08/2022  \\nReferred By:\\nDr. Self\\nReceived on:\\n12/08/2022  \\nReg. no. / UHID:\\n1001 /\\nReported on:\\n09/08/2022   11:35 AM\\nInvestigations:\\nKidney Function Test (KFT)\\nPage \\n1\\n of \\n1\\nMr. Sachin Sharma \\nDMLT, Lab Incharge\\nDr. A. K. Asthana \\nMBBS, MD Pathologist'"
            ],
            "application/vnd.google.colaboratory.intrinsic+json": {
              "type": "string"
            }
          },
          "metadata": {},
          "execution_count": 12
        }
      ]
    },
    {
      "cell_type": "code",
      "source": [
        "import re\n",
        "\n",
        "# Medical report text\n",
        "medical_report = \"BIOCHEMISTRY\\nKIDNEY FUNCTION TEST (KFT)\\nTEST\\nVALUE\\nUNIT\\nREFERENCE\\nBUN\\n10.27\\nmg/dl\\n7.9 - 20\\nSerum Urea\\n22\\nmg/dl\\n13 - 40\\nSerum Creatinine\\nH\\n0.9\\nmg/dl\\n0.5 - 0.8\\nSerum Calcium\\n9.0\\nmg/dl\\n8.8 - 10.6\\nSerum Potassium\\n3.9\\nmmol/L\\n3.5 - 5.1\\nSerum Sodium\\nL\\n132\\nmmol/L\\n136 - 146\\nSerum Uric Acid\\n5\\nmg/dl\\n2.6 - 6\\nUrea / Creatinine Ratio\\n24.44\\nBUN / Creatinine Ratio\\n11.41\\n~~~ End of report ~~~\\nLABSMART SAMPLE REPORT\\nPatient Name:\\nMrs. Dummy\\nRegistered on:\\n09/08/2022   11:35 AM\\n1001\\nAge / Sex:\\n34 YRS / F\\nCollected on:\\n09/08/2022  \\nReferred By:\\nDr. Self\\nReceived on:\\n12/08/2022  \\nReg. no. / UHID:\\n1001 /\\nReported on:\\n09/08/2022   11:35 AM\\nInvestigations:\\nKidney Function Test (KFT)\\nPage \\n1\\n of \\n1\\nMr. Sachin Sharma \\nDMLT, Lab Incharge\\nDr. A. K. Asthana \\nMBBS, MD Pathologist\"\n",
        "\n",
        "# Clean the text and remove unwanted characters and spaces\n",
        "cleaned_text = re.sub(r\"\\n+\", \"\\n\", medical_report)  # Replace multiple newlines with a single newline\n",
        "cleaned_text = re.sub(r\"\\s+\", \" \", cleaned_text)  # Replace multiple spaces with a single space\n",
        "cleaned_text = cleaned_text.strip()  # Remove leading/trailing spaces\n",
        "\n",
        "# Define the regex patterns for pattern matching\n",
        "bun_pattern = r\"BUN\\s+([\\d.]+)\\s+mg/dl\"\n",
        "serum_uric_acid_pattern = r\"Serum Uric Acid\\s+([\\d.]+)\\s+mg/dl\"\n",
        "serum_potassium_pattern = r\"Serum Potassium\\s+([\\d.]+)\\s+mmol/L\"\n",
        "\n",
        "# Extract the values using regex\n",
        "bun_match = re.search(bun_pattern, cleaned_text)\n",
        "serum_uric_acid_match = re.search(serum_uric_acid_pattern, cleaned_text)\n",
        "serum_potassium_match = re.search(serum_potassium_pattern, cleaned_text)\n",
        "\n",
        "# Extracted values\n",
        "bun_value = bun_match.group(1) if bun_match else None\n",
        "serum_uric_acid_value = serum_uric_acid_match.group(1) if serum_uric_acid_match else None\n",
        "serum_potassium_value = serum_potassium_match.group(1) if serum_potassium_match else None\n",
        "\n",
        "# Print the extracted values\n",
        "print(\"Extracted values:\")\n",
        "print(\"BUN:\", bun_value)\n",
        "print(\"Serum Uric Acid:\", serum_uric_acid_value)\n",
        "print(\"Serum Potassium:\", serum_potassium_value)\n"
      ],
      "metadata": {
        "colab": {
          "base_uri": "https://localhost:8080/"
        },
        "id": "FCuGqieT695w",
        "outputId": "fbd67431-7d55-45b0-8acc-a6b33d8b5463"
      },
      "execution_count": 23,
      "outputs": [
        {
          "output_type": "stream",
          "name": "stdout",
          "text": [
            "Extracted values:\n",
            "BUN: 10.27\n",
            "Serum Uric Acid: 5\n",
            "Serum Potassium: 3.9\n"
          ]
        }
      ]
    },
    {
      "cell_type": "code",
      "source": [
        "cleaned_text"
      ],
      "metadata": {
        "colab": {
          "base_uri": "https://localhost:8080/",
          "height": 105
        },
        "id": "_eliaV1_679L",
        "outputId": "38a5a8f1-a489-4bc6-99e0-145ace4bf558"
      },
      "execution_count": 22,
      "outputs": [
        {
          "output_type": "execute_result",
          "data": {
            "text/plain": [
              "'BIOCHEMISTRY KIDNEY FUNCTION TEST (KFT) TEST VALUE UNIT REFERENCE BUN 10.27 mg/dl 7.9 - 20 Serum Urea 22 mg/dl 13 - 40 Serum Creatinine H 0.9 mg/dl 0.5 - 0.8 Serum Calcium 9.0 mg/dl 8.8 - 10.6 Serum Potassium 3.9 mmol/L 3.5 - 5.1 Serum Sodium L 132 mmol/L 136 - 146 Serum Uric Acid 5 mg/dl 2.6 - 6 Urea / Creatinine Ratio 24.44 BUN / Creatinine Ratio 11.41 ~~~ End of report ~~~ LABSMART SAMPLE REPORT Patient Name: Mrs. Dummy Registered on: 09/08/2022 11:35 AM 1001 Age / Sex: 34 YRS / F Collected on: 09/08/2022 Referred By: Dr. Self Received on: 12/08/2022 Reg. no. / UHID: 1001 / Reported on: 09/08/2022 11:35 AM Investigations: Kidney Function Test (KFT) Page 1 of 1 Mr. Sachin Sharma DMLT, Lab Incharge Dr. A. K. Asthana MBBS, MD Pathologist'"
            ],
            "application/vnd.google.colaboratory.intrinsic+json": {
              "type": "string"
            }
          },
          "metadata": {},
          "execution_count": 22
        }
      ]
    },
    {
      "cell_type": "code",
      "source": [
        "import spacy\n",
        "from spacy import displacy\n",
        "import re\n",
        "from IPython.display import HTML\n",
        "\n",
        "# Load the spaCy English model\n",
        "nlp = spacy.load(\"en_core_web_sm\")\n",
        "\n",
        "# Medical report text\n",
        "medical_report = \"BIOCHEMISTRY\\nKIDNEY FUNCTION TEST (KFT)\\nTEST\\nVALUE\\nUNIT\\nREFERENCE\\nBUN\\n10.27\\nmg/dl\\n7.9 - 20\\nSerum Urea\\n22\\nmg/dl\\n13 - 40\\nSerum Creatinine\\nH\\n0.9\\nmg/dl\\n0.5 - 0.8\\nSerum Calcium\\n9.0\\nmg/dl\\n8.8 - 10.6\\nSerum Potassium\\n3.9\\nmmol/L\\n3.5 - 5.1\\nSerum Sodium\\nL\\n132\\nmmol/L\\n136 - 146\\nSerum Uric Acid\\n5\\nmg/dl\\n2.6 - 6\\nUrea / Creatinine Ratio\\n24.44\\nBUN / Creatinine Ratio\\n11.41\\n~~~ End of report ~~~\\nLABSMART SAMPLE REPORT\\nPatient Name:\\nMrs. Dummy\\nRegistered on:\\n09/08/2022   11:35 AM\\n1001\\nAge / Sex:\\n34 YRS / F\\nCollected on:\\n09/08/2022  \\nReferred By:\\nDr. Self\\nReceived on:\\n12/08/2022  \\nReg. no. / UHID:\\n1001 /\\nReported on:\\n09/08/2022   11:35 AM\\nInvestigations:\\nKidney Function Test (KFT)\\nPage \\n1\\n of \\n1\\nMr. Sachin Sharma \\nDMLT, Lab Incharge\\nDr. A. K. Asthana \\nMBBS, MD Pathologist\"\n",
        "\n",
        "# Clean the text and remove unwanted characters and spaces\n",
        "cleaned_text = re.sub(r\"\\n+\", \"\\n\", medical_report)  # Replace multiple newlines with a single newline\n",
        "cleaned_text = re.sub(r\"\\s+\", \" \", cleaned_text)  # Replace multiple spaces with a single space\n",
        "cleaned_text = cleaned_text.strip()  # Remove leading/trailing spaces\n",
        "\n",
        "# Process the cleaned text\n",
        "doc = nlp(cleaned_text)\n",
        "\n",
        "# Define the custom NER patterns\n",
        "ner_patterns = [\n",
        "    {\"label\": \"BUN\", \"pattern\": [{\"SHAPE\": \"Xxxxx\"}, {\"LOWER\": \"bun\"}]},\n",
        "    {\"label\": \"SerumUricAcid\", \"pattern\": [{\"SHAPE\": \"Xxxxx\"}, {\"LOWER\": \"serum\"}, {\"LOWER\": \"uric\"}, {\"LOWER\": \"acid\"}]},\n",
        "    {\"label\": \"SerumPotassium\", \"pattern\": [{\"SHAPE\": \"Xxxxx\"}, {\"LOWER\": \"serum\"}, {\"LOWER\": \"potassium\"}]}\n",
        "]\n",
        "\n",
        "# Add the custom NER patterns to the pipeline\n",
        "ruler = nlp.add_pipe(\"entity_ruler\", config={\"phrase_matcher_attr\": \"LOWER\"})\n",
        "ruler.add_patterns(ner_patterns)\n",
        "\n",
        "# Extracted values\n",
        "extracted_values = {}\n",
        "\n",
        "# Process the tokens to extract values\n",
        "for token in doc:\n",
        "    if token.text in [\"BUN\", \"Serum\", \"Uric\", \"Acid\", \"Potassium\"]:\n",
        "        label = token.text\n",
        "        next_token = token.nbor()\n",
        "        if next_token.like_num:\n",
        "            value = next_token.text\n",
        "            extracted_values[label] = value\n",
        "\n",
        "# Print the extracted values\n",
        "print(\"Extracted values:\")\n",
        "for label, value in extracted_values.items():\n",
        "    print(label + \":\", value)\n",
        "\n"
      ],
      "metadata": {
        "colab": {
          "base_uri": "https://localhost:8080/"
        },
        "id": "dKioZf0-Gzz9",
        "outputId": "2494a3d8-7446-4713-8a4c-085a3cfe93c9"
      },
      "execution_count": 9,
      "outputs": [
        {
          "output_type": "stream",
          "name": "stdout",
          "text": [
            "Extracted values:\n",
            "BUN: 10.27\n",
            "Potassium: 3.9\n",
            "Acid: 5\n"
          ]
        }
      ]
    }
  ]
}